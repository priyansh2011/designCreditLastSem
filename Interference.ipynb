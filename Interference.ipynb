{
  "nbformat": 4,
  "nbformat_minor": 0,
  "metadata": {
    "colab": {
      "provenance": []
    },
    "kernelspec": {
      "name": "python3",
      "display_name": "Python 3"
    },
    "language_info": {
      "name": "python"
    }
  },
  "cells": [
    {
      "cell_type": "code",
      "source": [
        "path=\"/content/drive/MyDrive/design/2023-04-13/shuffleNet_cifar_from_config\""
      ],
      "metadata": {
        "id": "gricR842tb5B"
      },
      "execution_count": null,
      "outputs": []
    },
    {
      "cell_type": "code",
      "source": [
        "import os\n",
        "from keras.callbacks import ModelCheckpoint, TensorBoard\n",
        "import numpy as np\n",
        "import matplotlib.pyplot as plt\n",
        "import itertools\n",
        "import tensorflow as tf"
      ],
      "metadata": {
        "id": "kE5vhxo5tq8a"
      },
      "execution_count": null,
      "outputs": []
    },
    {
      "cell_type": "code",
      "source": [
        "predictions_directory=path+\"/testPredictions\"\n",
        "logs_directory=path+\"/logs\""
      ],
      "metadata": {
        "id": "QKEYNmxRtoH_"
      },
      "execution_count": null,
      "outputs": []
    },
    {
      "cell_type": "markdown",
      "source": [
        "Test Results\n",
        "Loss, acc, top_5"
      ],
      "metadata": {
        "id": "6ZghwnwouXPJ"
      }
    },
    {
      "cell_type": "code",
      "source": [
        "arr=np.load(predictions_directory+\"/results_model.npy\")\n",
        "print(arr)"
      ],
      "metadata": {
        "id": "SE8Lbop4uULl"
      },
      "execution_count": null,
      "outputs": []
    },
    {
      "cell_type": "markdown",
      "source": [
        "Performance"
      ],
      "metadata": {
        "id": "dVf_IJ-MuvB_"
      }
    },
    {
      "cell_type": "code",
      "source": [
        "arr=np.load(predictions_directory+\"/results_performance.npy\")\n",
        "arr[1]=arr[1]/10e9\n",
        "print(arr)"
      ],
      "metadata": {
        "id": "jyPpaymzuuNj"
      },
      "execution_count": null,
      "outputs": []
    },
    {
      "cell_type": "markdown",
      "source": [
        "Confusion Matrix"
      ],
      "metadata": {
        "id": "LhOCS71VyeUt"
      }
    },
    {
      "cell_type": "code",
      "source": [
        "arr=np.load(predictions_directory+\"/confusion_matrix.npy\")"
      ],
      "metadata": {
        "id": "m4m7SwXlydLL"
      },
      "execution_count": null,
      "outputs": []
    },
    {
      "cell_type": "code",
      "source": [
        "def plot_confusion_matrix(cm, classes,\n",
        "                          normalize=False,\n",
        "                          title='Confusion matrix',\n",
        "                          cmap=plt.cm.Blues, name=\"temp\"):\n",
        "    \"\"\"\n",
        "    This function prints and plots the confusion matrix.\n",
        "    Normalization can be applied by setting `normalize=True`.\n",
        "    \"\"\"\n",
        "    plt.imshow(cm, interpolation='nearest', cmap=cmap)\n",
        "    plt.title(title)\n",
        "    plt.colorbar()\n",
        "    tick_marks = np.arange(len(classes))\n",
        "    plt.xticks(tick_marks, classes, rotation=45)\n",
        "    plt.yticks(tick_marks, classes)\n",
        "\n",
        "    if normalize:\n",
        "        cm = cm.astype('float') / cm.sum(axis=1)[:, np.newaxis]\n",
        "\n",
        "    thresh = cm.max() / 2.\n",
        "    for i, j in itertools.product(range(cm.shape[0]), range(cm.shape[1])):\n",
        "        plt.text(j, i, cm[i, j],\n",
        "                 horizontalalignment=\"center\",\n",
        "                 color=\"white\" if cm[i, j] > thresh else \"black\")\n",
        "\n",
        "    plt.tight_layout()\n",
        "    plt.ylabel('True label')\n",
        "    plt.xlabel('Predicted label')"
      ],
      "metadata": {
        "id": "velQqxXFyszc"
      },
      "execution_count": null,
      "outputs": []
    },
    {
      "cell_type": "code",
      "source": [
        "plot_confusion_matrix(arr, classes=range(10))"
      ],
      "metadata": {
        "id": "ByBNmDRXy4iQ"
      },
      "execution_count": null,
      "outputs": []
    },
    {
      "cell_type": "code",
      "source": [
        "%load_ext tensorboard"
      ],
      "metadata": {
        "id": "9Sg_zwyXz6Og"
      },
      "execution_count": null,
      "outputs": []
    },
    {
      "cell_type": "code",
      "source": [
        "%tensorboard --logdir /content/drive/MyDrive/design/2023-04-13/shuffleNet_cifar_from_config/logs"
      ],
      "metadata": {
        "id": "0dtrLqfp2OfF"
      },
      "execution_count": null,
      "outputs": []
    }
  ]
}