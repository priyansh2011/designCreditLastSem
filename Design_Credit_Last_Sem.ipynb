{
  "nbformat": 4,
  "nbformat_minor": 0,
  "metadata": {
    "colab": {
      "provenance": []
    },
    "kernelspec": {
      "name": "python3",
      "display_name": "Python 3"
    },
    "language_info": {
      "name": "python"
    },
    "accelerator": "GPU",
    "gpuClass": "standard"
  },
  "cells": [
    {
      "cell_type": "code",
      "source": [
        "!pip install dotmap\n",
        "!pip install keras-flops"
      ],
      "metadata": {
        "id": "9QBafP9i_lV4"
      },
      "execution_count": null,
      "outputs": []
    },
    {
      "cell_type": "code",
      "execution_count": null,
      "metadata": {
        "id": "fOSAI0JD5DY7"
      },
      "outputs": [],
      "source": [
        "from keras.datasets import cifar10\n",
        "from keras.models import Sequential\n",
        "from keras.layers import Input, Dense, Conv2D, MaxPooling2D, Dropout, Flatten\n",
        "import os\n",
        "import tensorflow as tf\n",
        "from keras.layers import Activation, Input, Dense, Conv2D, MaxPooling2D, Dropout, Flatten, BatchNormalization\n",
        "from keras.layers import Conv2D, MaxPooling2D, GlobalAveragePooling2D\n",
        "from keras.callbacks import ModelCheckpoint, TensorBoard\n",
        "import numpy as np\n",
        "import pandas as pd\n",
        "import matplotlib.pyplot as plt\n",
        "from sklearn.metrics import confusion_matrix, ConfusionMatrixDisplay\n",
        "import time\n",
        "import json\n",
        "from dotmap import DotMap\n",
        "from skimage.transform import resize\n",
        "from keras_flops import get_flops\n",
        "from sklearn.metrics import confusion_matrix\n",
        "import itertools\n",
        "from tensorflow.keras.applications import ResNet50, Xception, InceptionV3"
      ]
    },
    {
      "cell_type": "code",
      "source": [
        "os.chdir(\"/content/drive/MyDrive/Design_Credit_Last_Sem\")"
      ],
      "metadata": {
        "id": "49vQeqk1WrWw"
      },
      "execution_count": null,
      "outputs": []
    },
    {
      "cell_type": "code",
      "source": [
        "def image_resize(images):\n",
        "  temp=[]\n",
        "  i=0\n",
        "  for image in images:\n",
        "    print(\"i\", i)\n",
        "    image=resize(image, (150,150))\n",
        "    temp.append(image)\n",
        "    i=i+1\n",
        "  temp=np.array(temp)\n",
        "  return(temp)"
      ],
      "metadata": {
        "id": "iqfELbefFbwN"
      },
      "execution_count": null,
      "outputs": []
    },
    {
      "cell_type": "code",
      "source": [
        "class ConvCifarDataLoader():\n",
        "    def __init__(self):\n",
        "        (self.X_train, self.y_train), (self.X_test, self.y_test) = cifar10.load_data()\n",
        "        self.X_train=image_resize(self.X_train[:1000])\n",
        "        self.X_test=image_resize(self.X_test[:100])\n",
        "        self.y_train=self.y_train.reshape(-1,)\n",
        "        self.y_train=self.y_train[:1000]\n",
        "        self.y_test=self.y_test.reshape(-1,)\n",
        "        self.y_test=self.y_test[:100]\n",
        "\n",
        "    def get_train_data(self):\n",
        "        return self.X_train, self.y_train\n",
        "\n",
        "    def get_test_data(self):\n",
        "        return self.X_test, self.y_test"
      ],
      "metadata": {
        "id": "XubCMByZ7e4q"
      },
      "execution_count": null,
      "outputs": []
    },
    {
      "cell_type": "code",
      "source": [
        "def plot_confusion_matrix(cm, classes,\n",
        "                          normalize=False,\n",
        "                          title='Confusion matrix',\n",
        "                          cmap=plt.cm.Blues, name=\"temp\"):\n",
        "    \"\"\"\n",
        "    This function prints and plots the confusion matrix.\n",
        "    Normalization can be applied by setting `normalize=True`.\n",
        "    \"\"\"\n",
        "    plt.imshow(cm, interpolation='nearest', cmap=cmap)\n",
        "    plt.title(title)\n",
        "    plt.colorbar()\n",
        "    tick_marks = np.arange(len(classes))\n",
        "    plt.xticks(tick_marks, classes, rotation=45)\n",
        "    plt.yticks(tick_marks, classes)\n",
        "\n",
        "    if normalize:\n",
        "        cm = cm.astype('float') / cm.sum(axis=1)[:, np.newaxis]\n",
        "\n",
        "    thresh = cm.max() / 2.\n",
        "    for i, j in itertools.product(range(cm.shape[0]), range(cm.shape[1])):\n",
        "        plt.text(j, i, cm[i, j],\n",
        "                 horizontalalignment=\"center\",\n",
        "                 color=\"white\" if cm[i, j] > thresh else \"black\")\n",
        "\n",
        "    plt.tight_layout()\n",
        "    plt.ylabel('True label')\n",
        "    plt.xlabel('Predicted label')\n",
        "\n",
        "    plt.savefig(name+\"_confusion\"+\".png\")"
      ],
      "metadata": {
        "id": "R7qVfLkaiwaH"
      },
      "execution_count": null,
      "outputs": []
    },
    {
      "cell_type": "code",
      "source": [
        "class SimpleCifarModelTrainer():\n",
        "    def __init__(self, model, data, config):\n",
        "        self.model=model\n",
        "        self.data=data\n",
        "        self.config=config\n",
        "        self.callbacks = []\n",
        "        self.loss = []\n",
        "        self.acc = []\n",
        "        self.top5=[]\n",
        "        self.val_loss = []\n",
        "        self.val_acc = []\n",
        "        self.val_top5=[] \n",
        "        self.init_callbacks()\n",
        "\n",
        "    def init_callbacks(self):\n",
        "        self.callbacks.append(\n",
        "            ModelCheckpoint(\n",
        "                filepath=os.path.join(self.config.callbacks.checkpoint_dir, '%s-{epoch:02d}-{val_loss:.2f}.hdf5' % self.config.exp.name),\n",
        "                monitor=self.config.callbacks.checkpoint_monitor,\n",
        "                mode=self.config.callbacks.checkpoint_mode,\n",
        "                save_best_only=self.config.callbacks.checkpoint_save_best_only,\n",
        "                save_weights_only=self.config.callbacks.checkpoint_save_weights_only,\n",
        "                verbose=self.config.callbacks.checkpoint_verbose,\n",
        "            )\n",
        "        )\n",
        "\n",
        "        self.callbacks.append(\n",
        "            TensorBoard(\n",
        "                log_dir=self.config.callbacks.tensorboard_log_dir,\n",
        "                write_graph=self.config.callbacks.tensorboard_write_graph,\n",
        "            )\n",
        "        )\n",
        "\n",
        "\n",
        "    def train(self):\n",
        "        history = self.model.fit(\n",
        "            self.data[0], self.data[1],\n",
        "            epochs=self.config.trainer.num_epochs,\n",
        "            verbose=self.config.trainer.verbose_training,\n",
        "            batch_size=self.config.trainer.batch_size,\n",
        "            validation_split=self.config.trainer.validation_split,\n",
        "            callbacks=self.callbacks,\n",
        "        )\n",
        "        self.loss.extend(history.history['loss'])\n",
        "        self.acc.extend(history.history['accuracy'])\n",
        "        self.val_top5.extend(history.history['top_k_categorical_accuracy'])\n",
        "        self.val_loss.extend(history.history['val_loss'])\n",
        "        self.val_acc.extend(history.history['val_accuracy'])\n",
        "        self.val_top5.extend(history.history['val_top_k_categorical_accuracy'])"
      ],
      "metadata": {
        "id": "IhhHRu-z6CRe"
      },
      "execution_count": null,
      "outputs": []
    },
    {
      "cell_type": "code",
      "source": [
        "class simpleCifarTester():\n",
        "    def __init__(self, model, data, config, training_time, flops):\n",
        "        self.model=model\n",
        "        self.data=data\n",
        "        self.config=config\n",
        "        self.result=[]\n",
        "    def test(self):\n",
        "        print(\"Evaluating on test data\")\n",
        "        results = self.model.evaluate(self.data[0], self.data[1])\n",
        "        print(\"test results: \", results)\n",
        "        print(\"Saving the test reults metrics: \")\n",
        "        results_model=np.array(results)\n",
        "        np.save(self.config.callbacks.testPredictions_dir+\"results_model.npy\", results_model)\n",
        "        results_performance=np.array([training_time, flops])\n",
        "        np.save(self.config.callbacks.testPredictions_dir+\"results_performance.npy\", results_performance)\n",
        "        y_prediction = np.argmax(self.model.predict(self.data[0]), axis=1)\n",
        "        y_true=self.data[1]\n",
        "        result = confusion_matrix(y_true, y_prediction)\n",
        "        self.result=result"
      ],
      "metadata": {
        "id": "qH4vBEAZ6naI"
      },
      "execution_count": null,
      "outputs": []
    },
    {
      "cell_type": "code",
      "source": [
        "config={\n",
        "  \"exp\": {\n",
        "    \"name\": \"conv_Cifar_from_config\"\n",
        "  },\n",
        "  \"model\":{\n",
        "    \"learning_rate\": 0.002,\n",
        "    \"optimizer\": \"adam\"\n",
        "  },\n",
        "  \"trainer\":{\n",
        "    \"num_epochs\": 1,\n",
        "    \"batch_size\": 32,\n",
        "    \"validation_split\":0.2,\n",
        "    \"verbose_training\": True\n",
        "  },\n",
        "  \"callbacks\":{\n",
        "    \"checkpoint_monitor\": \"val_loss\",\n",
        "    \"checkpoint_mode\": \"min\",\n",
        "    \"checkpoint_save_best_only\": True,\n",
        "   \"checkpoint_save_weights_only\": True,\n",
        "    \"checkpoint_verbose\": True,\n",
        "    \"tensorboard_write_graph\": True\n",
        "  }\n",
        "}\n",
        "config = DotMap(config)"
      ],
      "metadata": {
        "id": "VJ_2cRXT7myf"
      },
      "execution_count": null,
      "outputs": []
    },
    {
      "cell_type": "code",
      "source": [
        "def create_dirs(dirs):\n",
        "    \"\"\"\n",
        "    dirs - a list of directories to create if these directories are not found\n",
        "    :param dirs:\n",
        "    :return exit_code: 0:success -1:failed\n",
        "    \"\"\"\n",
        "    try:\n",
        "        for dir_ in dirs:\n",
        "            if not os.path.exists(dir_):\n",
        "                os.makedirs(dir_)\n",
        "        return 0\n",
        "    except Exception as err:\n",
        "        print(\"Creating directories error: {0}\".format(err))\n",
        "        exit(-1)"
      ],
      "metadata": {
        "id": "EOPUW3zx8pz2"
      },
      "execution_count": null,
      "outputs": []
    },
    {
      "cell_type": "markdown",
      "source": [
        "Simple cnn"
      ],
      "metadata": {
        "id": "RGQiTgnYVUWL"
      }
    },
    {
      "cell_type": "code",
      "source": [
        "class ConvCifarModel():\n",
        "    def __init__(self):\n",
        "        self.build_model()\n",
        "\n",
        "    def build_model(self):\n",
        "        self.model = Sequential()\n",
        "        self.model.add(Conv2D(32, kernel_size=(4, 4),\n",
        "                        #  activation='relu', input_shape=(28, 28, 1)))\n",
        "                         activation='relu', input_shape=(150, 150, 3)))\n",
        "        self.model.add(MaxPooling2D(pool_size=(2, 2)))\n",
        "        self.model.add(Conv2D(64, (4, 4), activation='relu'))\n",
        "        self.model.add(MaxPooling2D(pool_size=(2, 2)))\n",
        "        self.model.add(Flatten())\n",
        "        # self.model.add(Dropout(0.25))\n",
        "        # self.model.add(Flatten())\n",
        "        self.model.add(Dense(128, activation='relu'))\n",
        "        self.model.add(Dropout(0.25))\n",
        "        self.model.add(Dense(64, activation='relu'))\n",
        "        self.model.add(Dropout(0.25))\n",
        "        self.model.add(Dense(32, activation='relu'))\n",
        "        self.model.add(Dropout(0.25))\n",
        "        self.model.add(Dense(10, activation='softmax'))\n",
        "        \n",
        "model=ConvCifarModel()\n",
        "model=model.model"
      ],
      "metadata": {
        "id": "sxYg9rWFwXgY"
      },
      "execution_count": null,
      "outputs": []
    },
    {
      "cell_type": "code",
      "source": [
        "class ConvCifarModel():\n",
        "    def __init__(self, config):\n",
        "        self.config=config\n",
        "        self.build_model()\n",
        "\n",
        "    def build_model(self):\n",
        "        self.model = Sequential()\n",
        "        self.model.add(Conv2D(32, kernel_size=(4, 4),\n",
        "                        #  activation='relu', input_shape=(28, 28, 1)))\n",
        "                         activation='relu', input_shape=(150, 150, 3)))\n",
        "        self.model.add(MaxPooling2D(pool_size=(2, 2)))\n",
        "        self.model.add(Conv2D(64, (4, 4), activation='relu'))\n",
        "        self.model.add(MaxPooling2D(pool_size=(2, 2)))\n",
        "        self.model.add(Flatten())\n",
        "        # self.model.add(Dropout(0.25))\n",
        "        # self.model.add(Flatten())\n",
        "        self.model.add(Dense(128, activation='relu'))\n",
        "        self.model.add(Dropout(0.25))\n",
        "        self.model.add(Dense(64, activation='relu'))\n",
        "        self.model.add(Dropout(0.25))\n",
        "        self.model.add(Dense(32, activation='relu'))\n",
        "        self.model.add(Dropout(0.25))\n",
        "        self.model.add(Dense(10, activation='softmax'))\n",
        "\n",
        "        self.model.compile(\n",
        "              loss='sparse_categorical_crossentropy',\n",
        "              optimizer=self.config.model.optimizer,\n",
        "              metrics=['accuracy', 'top_k_categorical_accuracy'])\n",
        "              #metrics=['accuracy'])\n",
        "\n",
        "config.exp.name=\"conv_cifar_from_config\"\n",
        "config.callbacks.tensorboard_log_dir = os.path.join(\"experiments\", time.strftime(\"%Y-%m-%d/\",time.localtime()), config.exp.name, \"logs/\")\n",
        "config.callbacks.checkpoint_dir = os.path.join(\"experiments\", time.strftime(\"%Y-%m-%d/\",time.localtime()), config.exp.name, \"checkpoints/\")\n",
        "config.callbacks.testPredictions_dir=os.path.join(\"experiments\", time.strftime(\"%Y-%m-%d/\",time.localtime()), config.exp.name, \"testPredictions/\")\n",
        "create_dirs([config.callbacks.testPredictions_dir, config.callbacks.tensorboard_log_dir, config.callbacks.checkpoint_dir])\n",
        "\n",
        "print('Create the data generator.')\n",
        "data_loader = ConvCifarDataLoader()\n",
        "print('Create the model.')\n",
        "model = ConvCifarModel(config)\n",
        "print('Create the trainer')\n",
        "trainer = SimpleCifarModelTrainer(model.model, data_loader.get_train_data(), config)\n",
        "print('Start training the model.')\n",
        "t0 = time.time()\n",
        "trainer.train()\n",
        "training_time=time.time()-t0\n",
        "\n",
        "\n",
        "print(\"*******************************************************************************\")\n",
        "print(model.model.summary())\n",
        "\n",
        "\n",
        "print(\"*******************************************************************************\")\n",
        "print(\"Training_time: \", training_time)\n",
        "\n",
        "\n",
        "print(\"*******************************************************************************\")\n",
        "flops = get_flops(model.model, batch_size=1)\n",
        "print(f\"FLOPS: {flops / 10 ** 9:.03} G\")\n",
        "\n",
        "\n",
        "print(\"*******************************************************************************\")\n",
        "print(\"Create the tester\")\n",
        "tester = simpleCifarTester(model.model, data_loader.get_test_data(), config, training_time, flops)     \n",
        "print(\"Start testing the model.\")\n",
        "tester.test()\n"
      ],
      "metadata": {
        "id": "JtoDfVjnVvnu"
      },
      "execution_count": null,
      "outputs": []
    },
    {
      "cell_type": "code",
      "source": [
        "from keras.utils.vis_utils import plot_model\n",
        "plot_model(model.model, to_file=config.exp.name+'.jpg', show_shapes=True, show_layer_names=True)"
      ],
      "metadata": {
        "id": "acg1tg2XtN9s"
      },
      "execution_count": null,
      "outputs": []
    },
    {
      "cell_type": "code",
      "source": [
        "print(\"*******************************************************************************\")\n",
        "# Plot the loss and accuracy curves for training and validation \n",
        "fig, ax = plt.subplots(2,1)\n",
        "ax[0].plot(trainer.loss, color='b', label=\"Training loss\")\n",
        "ax[0].plot(trainer.val_loss, color='r', label=\"validation loss\",axes =ax[0])\n",
        "legend = ax[0].legend(loc='best', shadow=True)\n",
        "ax[1].plot(trainer.acc, color='b', label=\"Training accuracy\")\n",
        "ax[1].plot(trainer.val_acc, color='r',label=\"Validation accuracy\")\n",
        "legend = ax[1].legend(loc='best', shadow=True)\n",
        "plt.savefig(config.exp.name+\".png\")"
      ],
      "metadata": {
        "id": "Jpn7qicLsAqT",
        "collapsed": true
      },
      "execution_count": null,
      "outputs": []
    },
    {
      "cell_type": "code",
      "source": [
        "print(\"*******************************************************************************\")\n",
        "print(tester.result)\n",
        "\n",
        "print(\"*******************************************************************************\")\n",
        "plot_confusion_matrix(tester.result, classes=range(10), name=config.exp.name)"
      ],
      "metadata": {
        "id": "U7A7X5OVsD6M"
      },
      "execution_count": null,
      "outputs": []
    },
    {
      "cell_type": "markdown",
      "source": [
        "Resnet"
      ],
      "metadata": {
        "id": "YvOvypSMD3XZ"
      }
    },
    {
      "cell_type": "code",
      "source": [
        "class ResnetCifarModel():\n",
        "    def __init__(self, config):\n",
        "        self.config=config\n",
        "        self.build_model()\n",
        "\n",
        "    def build_model(self):\n",
        "        self.model = Sequential()\n",
        "        self.model.add(ResNet50(include_top=False, weights=None, input_tensor=None, input_shape=(150, 150, 3), pooling=None))\n",
        "        self.model.add(GlobalAveragePooling2D())\n",
        "        self.model.add(Dense(128))\n",
        "        self.model.add(Activation(\"relu\"))\n",
        "        self.model.add(BatchNormalization(axis=-1, momentum=0.99, epsilon=0.001, center=True, scale=True, beta_initializer='zeros', gamma_initializer='ones', moving_mean_initializer='zeros', moving_variance_initializer='ones', beta_regularizer=None, gamma_regularizer=None, beta_constraint=None, gamma_constraint=None))\n",
        "        self.model.add(Dense(64))\n",
        "        self.model.add(Activation(\"relu\"))\n",
        "        self.model.add(Dense(32))\n",
        "        self.model.add(Activation(\"relu\"))\n",
        "        self.model.add(Dense(10))\n",
        "        self.model.add(Activation(\"softmax\"))\n",
        "\n",
        "        self.model.compile(\n",
        "              loss='sparse_categorical_crossentropy',\n",
        "              optimizer=self.config.model.optimizer,\n",
        "              metrics=['accuracy', 'top_k_categorical_accuracy'])\n",
        "              #metrics=['accuracy'])\n",
        "\n",
        "config.exp.name=\"resnet_cifar_from_config\"\n",
        "config.callbacks.tensorboard_log_dir = os.path.join(\"experiments\", time.strftime(\"%Y-%m-%d/\",time.localtime()), config.exp.name, \"logs/\")\n",
        "config.callbacks.checkpoint_dir = os.path.join(\"experiments\", time.strftime(\"%Y-%m-%d/\",time.localtime()), config.exp.name, \"checkpoints/\")\n",
        "config.callbacks.testPredictions_dir=os.path.join(\"experiments\", time.strftime(\"%Y-%m-%d/\",time.localtime()), config.exp.name, \"testPredictions/\")\n",
        "create_dirs([config.callbacks.testPredictions_dir, config.callbacks.tensorboard_log_dir, config.callbacks.checkpoint_dir])\n",
        "\n",
        "print('Create the data generator.')\n",
        "data_loader = ConvCifarDataLoader()\n",
        "print('Create the model.')\n",
        "model = ResnetCifarModel(config)\n",
        "print('Create the trainer')\n",
        "trainer = SimpleCifarModelTrainer(model.model, data_loader.get_train_data(), config)\n",
        "print('Start training the model.')\n",
        "t0 = time.time()\n",
        "trainer.train()\n",
        "training_time=time.time()-t0\n",
        "\n",
        "print(\"*******************************************************************************\")\n",
        "print(model.model.summary())\n",
        "\n",
        "\n",
        "print(\"*******************************************************************************\")\n",
        "print(\"Training_time: \", training_time)\n",
        "\n",
        "\n",
        "print(\"*******************************************************************************\")\n",
        "flops = get_flops(model.model, batch_size=1)\n",
        "print(f\"FLOPS: {flops / 10 ** 9:.03} G\")\n",
        "\n",
        "\n",
        "print(\"*******************************************************************************\")\n",
        "print(\"Create the tester\")\n",
        "tester = simpleCifarTester(model.model, data_loader.get_test_data(), config, training_time, flops)     \n",
        "print(\"Start testing the model.\")\n",
        "tester.test()"
      ],
      "metadata": {
        "id": "sxyYGbiPsUHs"
      },
      "execution_count": null,
      "outputs": []
    },
    {
      "cell_type": "code",
      "source": [
        "from keras.utils.vis_utils import plot_model\n",
        "plot_model(model.model, to_file=config.exp.name+'.png', show_shapes=True, show_layer_names=True)"
      ],
      "metadata": {
        "id": "c31JTCMgtJ-W"
      },
      "execution_count": null,
      "outputs": []
    },
    {
      "cell_type": "code",
      "source": [
        "print(\"*******************************************************************************\")\n",
        "# Plot the loss and accuracy curves for training and validation \n",
        "fig, ax = plt.subplots(2,1)\n",
        "ax[0].plot(trainer.loss, color='b', label=\"Training loss\")\n",
        "ax[0].plot(trainer.val_loss, color='r', label=\"validation loss\",axes =ax[0])\n",
        "legend = ax[0].legend(loc='best', shadow=True)\n",
        "ax[1].plot(trainer.acc, color='b', label=\"Training accuracy\")\n",
        "ax[1].plot(trainer.val_acc, color='r',label=\"Validation accuracy\")\n",
        "legend = ax[1].legend(loc='best', shadow=True)\n",
        "plt.savefig(config.exp.name+\".png\")"
      ],
      "metadata": {
        "id": "fYbzyB76sUHu"
      },
      "execution_count": null,
      "outputs": []
    },
    {
      "cell_type": "code",
      "source": [
        "print(\"*******************************************************************************\")\n",
        "print(tester.result)\n",
        "\n",
        "print(\"*******************************************************************************\")\n",
        "plot_confusion_matrix(tester.result, classes=range(10), name=config.exp.name)"
      ],
      "metadata": {
        "id": "R7giakXNsUHu"
      },
      "execution_count": null,
      "outputs": []
    },
    {
      "cell_type": "markdown",
      "source": [
        "Xception"
      ],
      "metadata": {
        "id": "KPbMmwe_HXdy"
      }
    },
    {
      "cell_type": "code",
      "source": [
        "class XceptionCifarModel():\n",
        "    def __init__(self, config):\n",
        "        self.config=config\n",
        "        self.build_model()\n",
        "\n",
        "    def build_model(self):\n",
        "        self.model = Sequential()\n",
        "        self.model.add(Xception(include_top=False, weights=None, input_tensor=None, input_shape=(150, 150, 3), pooling=None))\n",
        "        self.model.add(GlobalAveragePooling2D())\n",
        "        self.model.add(Dense(128))\n",
        "        self.model.add(Activation(\"relu\"))\n",
        "        self.model.add(BatchNormalization(axis=-1, momentum=0.99, epsilon=0.001, center=True, scale=True, beta_initializer='zeros', gamma_initializer='ones', moving_mean_initializer='zeros', moving_variance_initializer='ones', beta_regularizer=None, gamma_regularizer=None, beta_constraint=None, gamma_constraint=None))\n",
        "        self.model.add(Dense(64))\n",
        "        self.model.add(Activation(\"relu\"))\n",
        "        self.model.add(Dense(32))\n",
        "        self.model.add(Activation(\"relu\"))\n",
        "        self.model.add(Dense(10))\n",
        "        self.model.add(Activation(\"softmax\"))\n",
        "\n",
        "        self.model.compile(\n",
        "              loss='sparse_categorical_crossentropy',\n",
        "              optimizer=self.config.model.optimizer,\n",
        "              metrics=['accuracy', 'top_k_categorical_accuracy'])\n",
        "              #metrics=['accuracy'])\n",
        "\n",
        "config.exp.name=\"xception_cifar_from_config\"\n",
        "config.callbacks.tensorboard_log_dir = os.path.join(\"experiments\", time.strftime(\"%Y-%m-%d/\",time.localtime()), config.exp.name, \"logs/\")\n",
        "config.callbacks.checkpoint_dir = os.path.join(\"experiments\", time.strftime(\"%Y-%m-%d/\",time.localtime()), config.exp.name, \"checkpoints/\")\n",
        "config.callbacks.testPredictions_dir=os.path.join(\"experiments\", time.strftime(\"%Y-%m-%d/\",time.localtime()), config.exp.name, \"testPredictions/\")\n",
        "create_dirs([config.callbacks.testPredictions_dir, config.callbacks.tensorboard_log_dir, config.callbacks.checkpoint_dir])\n",
        "\n",
        "print('Create the data generator.')\n",
        "data_loader = ConvCifarDataLoader()\n",
        "print('Create the model.')\n",
        "model = XceptionCifarModel(config)\n",
        "print('Create the trainer')\n",
        "trainer = SimpleCifarModelTrainer(model.model, data_loader.get_train_data(), config)\n",
        "print('Start training the model.')\n",
        "t0 = time.time()\n",
        "trainer.train()\n",
        "training_time=time.time()-t0\n",
        "\n",
        "print(\"*******************************************************************************\")\n",
        "print(model.model.summary())\n",
        "\n",
        "\n",
        "print(\"*******************************************************************************\")\n",
        "print(\"Training_time: \", training_time)\n",
        "\n",
        "\n",
        "print(\"*******************************************************************************\")\n",
        "flops = get_flops(model.model, batch_size=1)\n",
        "print(f\"FLOPS: {flops / 10 ** 9:.03} G\")\n",
        "\n",
        "\n",
        "print(\"*******************************************************************************\")\n",
        "print(\"Create the tester\")\n",
        "tester = simpleCifarTester(model.model, data_loader.get_test_data(), config, training_time, flops)     \n",
        "print(\"Start testing the model.\")\n",
        "tester.test()"
      ],
      "metadata": {
        "id": "UCv-uxuUtZkV"
      },
      "execution_count": null,
      "outputs": []
    },
    {
      "cell_type": "code",
      "source": [
        "from keras.utils.vis_utils import plot_model\n",
        "plot_model(model.model, to_file=config.exp.name+'.png', show_shapes=True, show_layer_names=True)"
      ],
      "metadata": {
        "id": "ErdBuVHYtZkW"
      },
      "execution_count": null,
      "outputs": []
    },
    {
      "cell_type": "code",
      "source": [
        "print(\"*******************************************************************************\")\n",
        "# Plot the loss and accuracy curves for training and validation \n",
        "fig, ax = plt.subplots(2,1)\n",
        "ax[0].plot(trainer.loss, color='b', label=\"Training loss\")\n",
        "ax[0].plot(trainer.val_loss, color='r', label=\"validation loss\",axes =ax[0])\n",
        "legend = ax[0].legend(loc='best', shadow=True)\n",
        "ax[1].plot(trainer.acc, color='b', label=\"Training accuracy\")\n",
        "ax[1].plot(trainer.val_acc, color='r',label=\"Validation accuracy\")\n",
        "legend = ax[1].legend(loc='best', shadow=True)\n",
        "plt.savefig(config.exp.name+\".png\")"
      ],
      "metadata": {
        "id": "tN4lh3KRtZkW"
      },
      "execution_count": null,
      "outputs": []
    },
    {
      "cell_type": "code",
      "source": [
        "print(\"*******************************************************************************\")\n",
        "print(tester.result)\n",
        "\n",
        "print(\"*******************************************************************************\")\n",
        "plot_confusion_matrix(tester.result, classes=range(10), name=config.exp.name)"
      ],
      "metadata": {
        "id": "bAEa7xuwtZkX"
      },
      "execution_count": null,
      "outputs": []
    },
    {
      "cell_type": "markdown",
      "source": [
        "MobileNet"
      ],
      "metadata": {
        "id": "wdZCezFltqik"
      }
    },
    {
      "cell_type": "code",
      "source": [
        "from tensorflow.keras.applications import MobileNet\n",
        "class MobileNetCifarModel():\n",
        "    def __init__(self, config):\n",
        "        self.config=config\n",
        "        self.build_model()\n",
        "\n",
        "    def build_model(self):\n",
        "        self.model = Sequential()\n",
        "        self.model.add(MobileNet(include_top=False, weights=None, input_tensor=None, input_shape=(150, 150, 3), pooling=None))\n",
        "        self.model.add(GlobalAveragePooling2D())\n",
        "        self.model.add(Dense(128))\n",
        "        self.model.add(Activation(\"relu\"))\n",
        "        self.model.add(BatchNormalization(axis=-1, momentum=0.99, epsilon=0.001, center=True, scale=True, beta_initializer='zeros', gamma_initializer='ones', moving_mean_initializer='zeros', moving_variance_initializer='ones', beta_regularizer=None, gamma_regularizer=None, beta_constraint=None, gamma_constraint=None))\n",
        "        self.model.add(Dense(64))\n",
        "        self.model.add(Activation(\"relu\"))\n",
        "        self.model.add(Dense(32))\n",
        "        self.model.add(Activation(\"relu\"))\n",
        "        self.model.add(Dense(10))\n",
        "        self.model.add(Activation(\"softmax\"))\n",
        "\n",
        "        self.model.compile(\n",
        "              loss='sparse_categorical_crossentropy',\n",
        "              optimizer=self.config.model.optimizer,\n",
        "              metrics=['accuracy', 'top_k_categorical_accuracy'])\n",
        "              #metrics=['accuracy'])\n",
        "\n",
        "config.exp.name=\"mobileNet_cifar_from_config\"\n",
        "config.callbacks.tensorboard_log_dir = os.path.join(\"experiments\", time.strftime(\"%Y-%m-%d/\",time.localtime()), config.exp.name, \"logs/\")\n",
        "config.callbacks.checkpoint_dir = os.path.join(\"experiments\", time.strftime(\"%Y-%m-%d/\",time.localtime()), config.exp.name, \"checkpoints/\")\n",
        "config.callbacks.testPredictions_dir=os.path.join(\"experiments\", time.strftime(\"%Y-%m-%d/\",time.localtime()), config.exp.name, \"testPredictions/\")\n",
        "create_dirs([config.callbacks.testPredictions_dir, config.callbacks.tensorboard_log_dir, config.callbacks.checkpoint_dir])\n",
        "\n",
        "print('Create the data generator.')\n",
        "data_loader = ConvCifarDataLoader()\n",
        "print('Create the model.')\n",
        "model = MobileNetCifarModel(config)\n",
        "print('Create the trainer')\n",
        "trainer = SimpleCifarModelTrainer(model.model, data_loader.get_train_data(), config)\n",
        "print('Start training the model.')\n",
        "t0 = time.time()\n",
        "trainer.train()\n",
        "training_time=time.time()-t0\n",
        "\n",
        "print(\"*******************************************************************************\")\n",
        "print(model.model.summary())\n",
        "\n",
        "\n",
        "print(\"*******************************************************************************\")\n",
        "print(\"Training_time: \", training_time)\n",
        "\n",
        "\n",
        "print(\"*******************************************************************************\")\n",
        "flops = get_flops(model.model, batch_size=1)\n",
        "print(f\"FLOPS: {flops / 10 ** 9:.03} G\")\n",
        "\n",
        "\n",
        "print(\"*******************************************************************************\")\n",
        "print(\"Create the tester\")\n",
        "tester = simpleCifarTester(model.model, data_loader.get_test_data(), config, training_time, flops)     \n",
        "print(\"Start testing the model.\")\n",
        "tester.test()"
      ],
      "metadata": {
        "id": "0jwEAuXwt0XK"
      },
      "execution_count": null,
      "outputs": []
    },
    {
      "cell_type": "code",
      "source": [
        "from keras.utils.vis_utils import plot_model\n",
        "plot_model(model.model, to_file=config.exp.name+'.png', show_shapes=True, show_layer_names=True)"
      ],
      "metadata": {
        "id": "xUc3zf4Ot0XK"
      },
      "execution_count": null,
      "outputs": []
    },
    {
      "cell_type": "code",
      "source": [
        "print(\"*******************************************************************************\")\n",
        "# Plot the loss and accuracy curves for training and validation \n",
        "fig, ax = plt.subplots(2,1)\n",
        "ax[0].plot(trainer.loss, color='b', label=\"Training loss\")\n",
        "ax[0].plot(trainer.val_loss, color='r', label=\"validation loss\",axes =ax[0])\n",
        "legend = ax[0].legend(loc='best', shadow=True)\n",
        "ax[1].plot(trainer.acc, color='b', label=\"Training accuracy\")\n",
        "ax[1].plot(trainer.val_acc, color='r',label=\"Validation accuracy\")\n",
        "legend = ax[1].legend(loc='best', shadow=True)\n",
        "plt.savefig(config.exp.name+\".png\")"
      ],
      "metadata": {
        "id": "7cfZvF3Ht0XL"
      },
      "execution_count": null,
      "outputs": []
    },
    {
      "cell_type": "code",
      "source": [
        "print(\"*******************************************************************************\")\n",
        "print(tester.result)\n",
        "\n",
        "print(\"*******************************************************************************\")\n",
        "plot_confusion_matrix(tester.result, classes=range(10), name=config.exp.name)"
      ],
      "metadata": {
        "id": "GjmY0XgMt0XL"
      },
      "execution_count": null,
      "outputs": []
    },
    {
      "cell_type": "markdown",
      "source": [
        "MobileNet v2"
      ],
      "metadata": {
        "id": "mAg-fDYJuRM7"
      }
    },
    {
      "cell_type": "code",
      "source": [
        "from tensorflow.keras.applications import MobileNetV2\n",
        "class MobileNetV2CifarModel():\n",
        "    def __init__(self, config):\n",
        "        self.config=config\n",
        "        self.build_model()\n",
        "\n",
        "    def build_model(self):\n",
        "        self.model = Sequential()\n",
        "        self.model.add(MobileNetV2(include_top=False, weights=None, input_tensor=None, input_shape=(150, 150, 3), pooling=None))\n",
        "        self.model.add(GlobalAveragePooling2D())\n",
        "        self.model.add(Dense(128))\n",
        "        self.model.add(Activation(\"relu\"))\n",
        "        self.model.add(BatchNormalization(axis=-1, momentum=0.99, epsilon=0.001, center=True, scale=True, beta_initializer='zeros', gamma_initializer='ones', moving_mean_initializer='zeros', moving_variance_initializer='ones', beta_regularizer=None, gamma_regularizer=None, beta_constraint=None, gamma_constraint=None))\n",
        "        self.model.add(Dense(64))\n",
        "        self.model.add(Activation(\"relu\"))\n",
        "        self.model.add(Dense(32))\n",
        "        self.model.add(Activation(\"relu\"))\n",
        "        self.model.add(Dense(10))\n",
        "        self.model.add(Activation(\"softmax\"))\n",
        "\n",
        "        self.model.compile(\n",
        "              loss='sparse_categorical_crossentropy',\n",
        "              optimizer=self.config.model.optimizer,\n",
        "              metrics=['accuracy', 'top_k_categorical_accuracy'])\n",
        "              #metrics=['accuracy'])\n",
        "\n",
        "config.exp.name=\"mobileNetV2_cifar_from_config\"\n",
        "config.callbacks.tensorboard_log_dir = os.path.join(\"experiments\", time.strftime(\"%Y-%m-%d/\",time.localtime()), config.exp.name, \"logs/\")\n",
        "config.callbacks.checkpoint_dir = os.path.join(\"experiments\", time.strftime(\"%Y-%m-%d/\",time.localtime()), config.exp.name, \"checkpoints/\")\n",
        "config.callbacks.testPredictions_dir=os.path.join(\"experiments\", time.strftime(\"%Y-%m-%d/\",time.localtime()), config.exp.name, \"testPredictions/\")\n",
        "create_dirs([config.callbacks.testPredictions_dir, config.callbacks.tensorboard_log_dir, config.callbacks.checkpoint_dir])\n",
        "\n",
        "print('Create the data generator.')\n",
        "data_loader = ConvCifarDataLoader()\n",
        "print('Create the model.')\n",
        "model = MobileNetV2CifarModel(config)\n",
        "print('Create the trainer')\n",
        "trainer = SimpleCifarModelTrainer(model.model, data_loader.get_train_data(), config)\n",
        "print('Start training the model.')\n",
        "t0 = time.time()\n",
        "trainer.train()\n",
        "training_time=time.time()-t0\n",
        "\n",
        "print(\"*******************************************************************************\")\n",
        "print(model.model.summary())\n",
        "\n",
        "\n",
        "print(\"*******************************************************************************\")\n",
        "print(\"Training_time: \", training_time)\n",
        "\n",
        "\n",
        "print(\"*******************************************************************************\")\n",
        "flops = get_flops(model.model, batch_size=1)\n",
        "print(f\"FLOPS: {flops / 10 ** 9:.03} G\")\n",
        "\n",
        "\n",
        "print(\"*******************************************************************************\")\n",
        "print(\"Create the tester\")\n",
        "tester = simpleCifarTester(model.model, data_loader.get_test_data(), config, training_time, flops)     \n",
        "print(\"Start testing the model.\")\n",
        "tester.test()"
      ],
      "metadata": {
        "id": "gkq9nI9JuPwH"
      },
      "execution_count": null,
      "outputs": []
    },
    {
      "cell_type": "code",
      "source": [
        "from keras.utils.vis_utils import plot_model\n",
        "plot_model(model.model, to_file=config.exp.name+'.png', show_shapes=True, show_layer_names=True)"
      ],
      "metadata": {
        "id": "OoTwopZ9uPwH"
      },
      "execution_count": null,
      "outputs": []
    },
    {
      "cell_type": "code",
      "source": [
        "print(\"*******************************************************************************\")\n",
        "# Plot the loss and accuracy curves for training and validation \n",
        "fig, ax = plt.subplots(2,1)\n",
        "ax[0].plot(trainer.loss, color='b', label=\"Training loss\")\n",
        "ax[0].plot(trainer.val_loss, color='r', label=\"validation loss\",axes =ax[0])\n",
        "legend = ax[0].legend(loc='best', shadow=True)\n",
        "ax[1].plot(trainer.acc, color='b', label=\"Training accuracy\")\n",
        "ax[1].plot(trainer.val_acc, color='r',label=\"Validation accuracy\")\n",
        "legend = ax[1].legend(loc='best', shadow=True)\n",
        "plt.savefig(config.exp.name+\".png\")"
      ],
      "metadata": {
        "id": "Q88XxLSHuPwH"
      },
      "execution_count": null,
      "outputs": []
    },
    {
      "cell_type": "code",
      "source": [
        "print(\"*******************************************************************************\")\n",
        "print(tester.result)\n",
        "\n",
        "print(\"*******************************************************************************\")\n",
        "plot_confusion_matrix(tester.result, classes=range(10), name=config.exp.name)"
      ],
      "metadata": {
        "id": "kKH6yXWeuPwI"
      },
      "execution_count": null,
      "outputs": []
    },
    {
      "cell_type": "markdown",
      "source": [
        "Inception"
      ],
      "metadata": {
        "id": "TqRKtrHKuuPI"
      }
    },
    {
      "cell_type": "code",
      "source": [
        "class InceptionCifarModel():\n",
        "    def __init__(self, config):\n",
        "        self.config=config\n",
        "        self.build_model()\n",
        "\n",
        "    def build_model(self):\n",
        "        self.model = Sequential()\n",
        "        self.model.add(InceptionV3(include_top=False, weights=None, input_tensor=None, input_shape=(150, 150, 3), pooling=None))\n",
        "        self.model.add(GlobalAveragePooling2D())\n",
        "        self.model.add(Dense(128))\n",
        "        self.model.add(Activation(\"relu\"))\n",
        "        self.model.add(BatchNormalization(axis=-1, momentum=0.99, epsilon=0.001, center=True, scale=True, beta_initializer='zeros', gamma_initializer='ones', moving_mean_initializer='zeros', moving_variance_initializer='ones', beta_regularizer=None, gamma_regularizer=None, beta_constraint=None, gamma_constraint=None))\n",
        "        self.model.add(Dense(64))\n",
        "        self.model.add(Activation(\"relu\"))\n",
        "        self.model.add(Dense(32))\n",
        "        self.model.add(Activation(\"relu\"))\n",
        "        self.model.add(Dense(10))\n",
        "        self.model.add(Activation(\"softmax\"))\n",
        "\n",
        "        self.model.compile(\n",
        "              loss='sparse_categorical_crossentropy',\n",
        "              optimizer=self.config.model.optimizer,\n",
        "              metrics=['accuracy', 'top_k_categorical_accuracy'])\n",
        "              #metrics=['accuracy'])\n",
        "\n",
        "config.exp.name=\"inception_cifar_from_config\"\n",
        "config.callbacks.tensorboard_log_dir = os.path.join(\"experiments\", time.strftime(\"%Y-%m-%d/\",time.localtime()), config.exp.name, \"logs/\")\n",
        "config.callbacks.checkpoint_dir = os.path.join(\"experiments\", time.strftime(\"%Y-%m-%d/\",time.localtime()), config.exp.name, \"checkpoints/\")\n",
        "config.callbacks.testPredictions_dir=os.path.join(\"experiments\", time.strftime(\"%Y-%m-%d/\",time.localtime()), config.exp.name, \"testPredictions/\")\n",
        "create_dirs([config.callbacks.testPredictions_dir, config.callbacks.tensorboard_log_dir, config.callbacks.checkpoint_dir])\n",
        "\n",
        "print('Create the data generator.')\n",
        "data_loader = ConvCifarDataLoader()\n",
        "print('Create the model.')\n",
        "model = InceptionCifarModel(config)\n",
        "print('Create the trainer')\n",
        "trainer = SimpleCifarModelTrainer(model.model, data_loader.get_train_data(), config)\n",
        "print('Start training the model.')\n",
        "t0 = time.time()\n",
        "trainer.train()\n",
        "training_time=time.time()-t0\n",
        "\n",
        "print(\"*******************************************************************************\")\n",
        "print(model.model.summary())\n",
        "\n",
        "\n",
        "print(\"*******************************************************************************\")\n",
        "print(\"Training_time: \", training_time)\n",
        "\n",
        "\n",
        "print(\"*******************************************************************************\")\n",
        "flops = get_flops(model.model, batch_size=1)\n",
        "print(f\"FLOPS: {flops / 10 ** 9:.03} G\")\n",
        "\n",
        "\n",
        "print(\"*******************************************************************************\")\n",
        "print(\"Create the tester\")\n",
        "tester = simpleCifarTester(model.model, data_loader.get_test_data(), config, training_time, flops)     \n",
        "print(\"Start testing the model.\")\n",
        "tester.test()"
      ],
      "metadata": {
        "id": "dXaN6lmjuv4J"
      },
      "execution_count": null,
      "outputs": []
    },
    {
      "cell_type": "code",
      "source": [
        "from keras.utils.vis_utils import plot_model\n",
        "plot_model(model.model, to_file=config.exp.name+'.png', show_shapes=True, show_layer_names=True)"
      ],
      "metadata": {
        "id": "3nG1NTwyuv4K"
      },
      "execution_count": null,
      "outputs": []
    },
    {
      "cell_type": "code",
      "source": [
        "print(\"*******************************************************************************\")\n",
        "# Plot the loss and accuracy curves for training and validation \n",
        "fig, ax = plt.subplots(2,1)\n",
        "ax[0].plot(trainer.loss, color='b', label=\"Training loss\")\n",
        "ax[0].plot(trainer.val_loss, color='r', label=\"validation loss\",axes =ax[0])\n",
        "legend = ax[0].legend(loc='best', shadow=True)\n",
        "ax[1].plot(trainer.acc, color='b', label=\"Training accuracy\")\n",
        "ax[1].plot(trainer.val_acc, color='r',label=\"Validation accuracy\")\n",
        "legend = ax[1].legend(loc='best', shadow=True)\n",
        "plt.savefig(config.exp.name+\".png\")"
      ],
      "metadata": {
        "id": "ge8Orfhquv4L"
      },
      "execution_count": null,
      "outputs": []
    },
    {
      "cell_type": "code",
      "source": [
        "print(\"*******************************************************************************\")\n",
        "print(tester.result)\n",
        "\n",
        "print(\"*******************************************************************************\")\n",
        "plot_confusion_matrix(tester.result, classes=range(10), name=config.exp.name)"
      ],
      "metadata": {
        "id": "dlTcZbwHuv4L"
      },
      "execution_count": null,
      "outputs": []
    },
    {
      "cell_type": "markdown",
      "source": [
        "DenseNet 121"
      ],
      "metadata": {
        "id": "Zmb-Fd_evAMw"
      }
    },
    {
      "cell_type": "code",
      "source": [
        "from tensorflow.keras.applications import DenseNet121\n",
        "class DenseNet121CifarModel():\n",
        "    def __init__(self, config):\n",
        "        self.config=config\n",
        "        self.build_model()\n",
        "\n",
        "    def build_model(self):\n",
        "        self.model = Sequential()\n",
        "        self.model.add(DenseNet121(include_top=False, weights=None, input_tensor=None, input_shape=(150, 150, 3), pooling=None))\n",
        "        self.model.add(GlobalAveragePooling2D())\n",
        "        self.model.add(Dense(128))\n",
        "        self.model.add(Activation(\"relu\"))\n",
        "        self.model.add(BatchNormalization(axis=-1, momentum=0.99, epsilon=0.001, center=True, scale=True, beta_initializer='zeros', gamma_initializer='ones', moving_mean_initializer='zeros', moving_variance_initializer='ones', beta_regularizer=None, gamma_regularizer=None, beta_constraint=None, gamma_constraint=None))\n",
        "        self.model.add(Dense(64))\n",
        "        self.model.add(Activation(\"relu\"))\n",
        "        self.model.add(Dense(32))\n",
        "        self.model.add(Activation(\"relu\"))\n",
        "        self.model.add(Dense(10))\n",
        "        self.model.add(Activation(\"softmax\"))\n",
        "\n",
        "        self.model.compile(\n",
        "              loss='sparse_categorical_crossentropy',\n",
        "              optimizer=self.config.model.optimizer,\n",
        "              metrics=['accuracy', 'top_k_categorical_accuracy'])\n",
        "              #metrics=['accuracy'])\n",
        "\n",
        "config.exp.name=\"denseNet121_cifar_from_config\"\n",
        "config.callbacks.tensorboard_log_dir = os.path.join(\"experiments\", time.strftime(\"%Y-%m-%d/\",time.localtime()), config.exp.name, \"logs/\")\n",
        "config.callbacks.checkpoint_dir = os.path.join(\"experiments\", time.strftime(\"%Y-%m-%d/\",time.localtime()), config.exp.name, \"checkpoints/\")\n",
        "config.callbacks.testPredictions_dir=os.path.join(\"experiments\", time.strftime(\"%Y-%m-%d/\",time.localtime()), config.exp.name, \"testPredictions/\")\n",
        "create_dirs([config.callbacks.testPredictions_dir, config.callbacks.tensorboard_log_dir, config.callbacks.checkpoint_dir])\n",
        "\n",
        "print('Create the data generator.')\n",
        "data_loader = ConvCifarDataLoader()\n",
        "print('Create the model.')\n",
        "model = DenseNet121CifarModel(config)\n",
        "print('Create the trainer')\n",
        "trainer = SimpleCifarModelTrainer(model.model, data_loader.get_train_data(), config)\n",
        "print('Start training the model.')\n",
        "t0 = time.time()\n",
        "trainer.train()\n",
        "training_time=time.time()-t0\n",
        "\n",
        "print(\"*******************************************************************************\")\n",
        "print(model.model.summary())\n",
        "\n",
        "\n",
        "print(\"*******************************************************************************\")\n",
        "print(\"Training_time: \", training_time)\n",
        "\n",
        "\n",
        "print(\"*******************************************************************************\")\n",
        "flops = get_flops(model.model, batch_size=1)\n",
        "print(f\"FLOPS: {flops / 10 ** 9:.03} G\")\n",
        "\n",
        "\n",
        "print(\"*******************************************************************************\")\n",
        "print(\"Create the tester\")\n",
        "tester = simpleCifarTester(model.model, data_loader.get_test_data(), config, training_time, flops)     \n",
        "print(\"Start testing the model.\")\n",
        "tester.test()"
      ],
      "metadata": {
        "id": "nqHplxpMvFcs"
      },
      "execution_count": null,
      "outputs": []
    },
    {
      "cell_type": "code",
      "source": [
        "from keras.utils.vis_utils import plot_model\n",
        "plot_model(model.model, to_file=config.exp.name+'.png', show_shapes=True, show_layer_names=True)"
      ],
      "metadata": {
        "id": "63Bxy6FWvFct"
      },
      "execution_count": null,
      "outputs": []
    },
    {
      "cell_type": "code",
      "source": [
        "print(\"*******************************************************************************\")\n",
        "# Plot the loss and accuracy curves for training and validation \n",
        "fig, ax = plt.subplots(2,1)\n",
        "ax[0].plot(trainer.loss, color='b', label=\"Training loss\")\n",
        "ax[0].plot(trainer.val_loss, color='r', label=\"validation loss\",axes =ax[0])\n",
        "legend = ax[0].legend(loc='best', shadow=True)\n",
        "ax[1].plot(trainer.acc, color='b', label=\"Training accuracy\")\n",
        "ax[1].plot(trainer.val_acc, color='r',label=\"Validation accuracy\")\n",
        "legend = ax[1].legend(loc='best', shadow=True)\n",
        "plt.savefig(config.exp.name+\".png\")"
      ],
      "metadata": {
        "id": "Q3cgs9zyvFct"
      },
      "execution_count": null,
      "outputs": []
    },
    {
      "cell_type": "code",
      "source": [
        "print(\"*******************************************************************************\")\n",
        "print(tester.result)\n",
        "\n",
        "print(\"*******************************************************************************\")\n",
        "plot_confusion_matrix(tester.result, classes=range(10), name=config.exp.name)"
      ],
      "metadata": {
        "id": "ZIKfvyQyvFct"
      },
      "execution_count": null,
      "outputs": []
    },
    {
      "cell_type": "markdown",
      "source": [
        "DenseNet 169"
      ],
      "metadata": {
        "id": "06rl6UfCvTUL"
      }
    },
    {
      "cell_type": "code",
      "source": [
        "from tensorflow.keras.applications import DenseNet169\n",
        "class DenseNet169CifarModel():\n",
        "    def __init__(self, config):\n",
        "        self.config=config\n",
        "        self.build_model()\n",
        "\n",
        "    def build_model(self):\n",
        "        self.model = Sequential()\n",
        "        self.model.add(DenseNet169(include_top=False, weights=None, input_tensor=None, input_shape=(150, 150, 3), pooling=None))\n",
        "        self.model.add(GlobalAveragePooling2D())\n",
        "        self.model.add(Dense(128))\n",
        "        self.model.add(Activation(\"relu\"))\n",
        "        self.model.add(BatchNormalization(axis=-1, momentum=0.99, epsilon=0.001, center=True, scale=True, beta_initializer='zeros', gamma_initializer='ones', moving_mean_initializer='zeros', moving_variance_initializer='ones', beta_regularizer=None, gamma_regularizer=None, beta_constraint=None, gamma_constraint=None))\n",
        "        self.model.add(Dense(64))\n",
        "        self.model.add(Activation(\"relu\"))\n",
        "        self.model.add(Dense(32))\n",
        "        self.model.add(Activation(\"relu\"))\n",
        "        self.model.add(Dense(10))\n",
        "        self.model.add(Activation(\"softmax\"))\n",
        "\n",
        "        self.model.compile(\n",
        "              loss='sparse_categorical_crossentropy',\n",
        "              optimizer=self.config.model.optimizer,\n",
        "              metrics=['accuracy', 'top_k_categorical_accuracy'])\n",
        "              #metrics=['accuracy'])\n",
        "\n",
        "config.exp.name=\"denseNet169_cifar_from_config\"\n",
        "config.callbacks.tensorboard_log_dir = os.path.join(\"experiments\", time.strftime(\"%Y-%m-%d/\",time.localtime()), config.exp.name, \"logs/\")\n",
        "config.callbacks.checkpoint_dir = os.path.join(\"experiments\", time.strftime(\"%Y-%m-%d/\",time.localtime()), config.exp.name, \"checkpoints/\")\n",
        "config.callbacks.testPredictions_dir=os.path.join(\"experiments\", time.strftime(\"%Y-%m-%d/\",time.localtime()), config.exp.name, \"testPredictions/\")\n",
        "create_dirs([config.callbacks.testPredictions_dir, config.callbacks.tensorboard_log_dir, config.callbacks.checkpoint_dir])\n",
        "\n",
        "print('Create the data generator.')\n",
        "data_loader = ConvCifarDataLoader()\n",
        "print('Create the model.')\n",
        "model = DenseNet169CifarModel(config)\n",
        "print('Create the trainer')\n",
        "trainer = SimpleCifarModelTrainer(model.model, data_loader.get_train_data(), config)\n",
        "print('Start training the model.')\n",
        "t0 = time.time()\n",
        "trainer.train()\n",
        "training_time=time.time()-t0\n",
        "\n",
        "print(\"*******************************************************************************\")\n",
        "print(model.model.summary())\n",
        "\n",
        "\n",
        "print(\"*******************************************************************************\")\n",
        "print(\"Training_time: \", training_time)\n",
        "\n",
        "\n",
        "print(\"*******************************************************************************\")\n",
        "flops = get_flops(model.model, batch_size=1)\n",
        "print(f\"FLOPS: {flops / 10 ** 9:.03} G\")\n",
        "\n",
        "\n",
        "print(\"*******************************************************************************\")\n",
        "print(\"Create the tester\")\n",
        "tester = simpleCifarTester(model.model, data_loader.get_test_data(), config, training_time, flops)     \n",
        "print(\"Start testing the model.\")\n",
        "tester.test()"
      ],
      "metadata": {
        "id": "P9USVeSjvacm"
      },
      "execution_count": null,
      "outputs": []
    },
    {
      "cell_type": "code",
      "source": [
        "from keras.utils.vis_utils import plot_model\n",
        "plot_model(model.model, to_file=config.exp.name+'.png', show_shapes=True, show_layer_names=True)"
      ],
      "metadata": {
        "id": "TzPcdagTvacn"
      },
      "execution_count": null,
      "outputs": []
    },
    {
      "cell_type": "code",
      "source": [
        "print(\"*******************************************************************************\")\n",
        "# Plot the loss and accuracy curves for training and validation \n",
        "fig, ax = plt.subplots(2,1)\n",
        "ax[0].plot(trainer.loss, color='b', label=\"Training loss\")\n",
        "ax[0].plot(trainer.val_loss, color='r', label=\"validation loss\",axes =ax[0])\n",
        "legend = ax[0].legend(loc='best', shadow=True)\n",
        "ax[1].plot(trainer.acc, color='b', label=\"Training accuracy\")\n",
        "ax[1].plot(trainer.val_acc, color='r',label=\"Validation accuracy\")\n",
        "legend = ax[1].legend(loc='best', shadow=True)\n",
        "plt.savefig(config.exp.name+\".png\")"
      ],
      "metadata": {
        "id": "Du8fiQn3vacn"
      },
      "execution_count": null,
      "outputs": []
    },
    {
      "cell_type": "code",
      "source": [
        "print(\"*******************************************************************************\")\n",
        "print(tester.result)\n",
        "\n",
        "print(\"*******************************************************************************\")\n",
        "plot_confusion_matrix(tester.result, classes=range(10), name=config.exp.name)"
      ],
      "metadata": {
        "id": "gfLH0eQIvacn"
      },
      "execution_count": null,
      "outputs": []
    },
    {
      "cell_type": "markdown",
      "source": [
        "NasNetMobile"
      ],
      "metadata": {
        "id": "YNttUcxBviDi"
      }
    },
    {
      "cell_type": "code",
      "source": [
        "from tensorflow.keras.applications import NASNetMobile\n",
        "class NASNetMobileCifarModel():\n",
        "    def __init__(self, config):\n",
        "        self.config=config\n",
        "        self.build_model()\n",
        "\n",
        "    def build_model(self):\n",
        "        self.model = Sequential()\n",
        "        self.model.add(NASNetMobile(include_top=False, weights=None, input_tensor=None, input_shape=(150, 150, 3), pooling=None))\n",
        "        self.model.add(GlobalAveragePooling2D())\n",
        "        self.model.add(Dense(128))\n",
        "        self.model.add(Activation(\"relu\"))\n",
        "        self.model.add(BatchNormalization(axis=-1, momentum=0.99, epsilon=0.001, center=True, scale=True, beta_initializer='zeros', gamma_initializer='ones', moving_mean_initializer='zeros', moving_variance_initializer='ones', beta_regularizer=None, gamma_regularizer=None, beta_constraint=None, gamma_constraint=None))\n",
        "        self.model.add(Dense(64))\n",
        "        self.model.add(Activation(\"relu\"))\n",
        "        self.model.add(Dense(32))\n",
        "        self.model.add(Activation(\"relu\"))\n",
        "        self.model.add(Dense(10))\n",
        "        self.model.add(Activation(\"softmax\"))\n",
        "\n",
        "        self.model.compile(\n",
        "              loss='sparse_categorical_crossentropy',\n",
        "              optimizer=self.config.model.optimizer,\n",
        "              metrics=['accuracy', 'top_k_categorical_accuracy'])\n",
        "              #metrics=['accuracy'])\n",
        "\n",
        "config.exp.name=\"nasNetMobile_cifar_from_config\"\n",
        "config.callbacks.tensorboard_log_dir = os.path.join(\"experiments\", time.strftime(\"%Y-%m-%d/\",time.localtime()), config.exp.name, \"logs/\")\n",
        "config.callbacks.checkpoint_dir = os.path.join(\"experiments\", time.strftime(\"%Y-%m-%d/\",time.localtime()), config.exp.name, \"checkpoints/\")\n",
        "config.callbacks.testPredictions_dir=os.path.join(\"experiments\", time.strftime(\"%Y-%m-%d/\",time.localtime()), config.exp.name, \"testPredictions/\")\n",
        "create_dirs([config.callbacks.testPredictions_dir, config.callbacks.tensorboard_log_dir, config.callbacks.checkpoint_dir])\n",
        "\n",
        "print('Create the data generator.')\n",
        "data_loader = ConvCifarDataLoader()\n",
        "print('Create the model.')\n",
        "model = NASNetMobileCifarModel(config)\n",
        "print('Create the trainer')\n",
        "trainer = SimpleCifarModelTrainer(model.model, data_loader.get_train_data(), config)\n",
        "print('Start training the model.')\n",
        "t0 = time.time()\n",
        "trainer.train()\n",
        "training_time=time.time()-t0\n",
        "\n",
        "print(\"*******************************************************************************\")\n",
        "print(model.model.summary())\n",
        "\n",
        "\n",
        "print(\"*******************************************************************************\")\n",
        "print(\"Training_time: \", training_time)\n",
        "\n",
        "\n",
        "print(\"*******************************************************************************\")\n",
        "flops = get_flops(model.model, batch_size=1)\n",
        "print(f\"FLOPS: {flops / 10 ** 9:.03} G\")\n",
        "\n",
        "\n",
        "print(\"*******************************************************************************\")\n",
        "print(\"Create the tester\")\n",
        "tester = simpleCifarTester(model.model, data_loader.get_test_data(), config, training_time, flops)     \n",
        "print(\"Start testing the model.\")\n",
        "tester.test()"
      ],
      "metadata": {
        "id": "YEN7B2Z-vmbo"
      },
      "execution_count": null,
      "outputs": []
    },
    {
      "cell_type": "code",
      "source": [
        "from keras.utils.vis_utils import plot_model\n",
        "plot_model(model.model, to_file=config.exp.name+'.png', show_shapes=True, show_layer_names=True)"
      ],
      "metadata": {
        "id": "XNiEJqRIvmbp"
      },
      "execution_count": null,
      "outputs": []
    },
    {
      "cell_type": "code",
      "source": [
        "print(\"*******************************************************************************\")\n",
        "# Plot the loss and accuracy curves for training and validation \n",
        "fig, ax = plt.subplots(2,1)\n",
        "ax[0].plot(trainer.loss, color='b', label=\"Training loss\")\n",
        "ax[0].plot(trainer.val_loss, color='r', label=\"validation loss\",axes =ax[0])\n",
        "legend = ax[0].legend(loc='best', shadow=True)\n",
        "ax[1].plot(trainer.acc, color='b', label=\"Training accuracy\")\n",
        "ax[1].plot(trainer.val_acc, color='r',label=\"Validation accuracy\")\n",
        "legend = ax[1].legend(loc='best', shadow=True)\n",
        "plt.savefig(config.exp.name+\".png\")"
      ],
      "metadata": {
        "id": "lsuFE9Anvmbp"
      },
      "execution_count": null,
      "outputs": []
    },
    {
      "cell_type": "code",
      "source": [
        "print(\"*******************************************************************************\")\n",
        "print(tester.result)\n",
        "\n",
        "print(\"*******************************************************************************\")\n",
        "plot_confusion_matrix(tester.result, classes=range(10), name=config.exp.name)"
      ],
      "metadata": {
        "id": "m3sEJTo4vmbp"
      },
      "execution_count": null,
      "outputs": []
    },
    {
      "cell_type": "markdown",
      "source": [
        "EfficientNet B0"
      ],
      "metadata": {
        "id": "-d0yZybuv64Q"
      }
    },
    {
      "cell_type": "code",
      "source": [
        "from tensorflow.keras.applications import EfficientNetB0\n",
        "class EfficientNetB0CifarModel():\n",
        "    def __init__(self, config):\n",
        "        self.config=config\n",
        "        self.build_model()\n",
        "\n",
        "    def build_model(self):\n",
        "        self.model = Sequential()\n",
        "        self.model.add(EfficientNetB0(include_top=False, weights=None, input_tensor=None, input_shape=(150, 150, 3), pooling=None))\n",
        "        self.model.add(GlobalAveragePooling2D())\n",
        "        self.model.add(Dense(128))\n",
        "        self.model.add(Activation(\"relu\"))\n",
        "        self.model.add(BatchNormalization(axis=-1, momentum=0.99, epsilon=0.001, center=True, scale=True, beta_initializer='zeros', gamma_initializer='ones', moving_mean_initializer='zeros', moving_variance_initializer='ones', beta_regularizer=None, gamma_regularizer=None, beta_constraint=None, gamma_constraint=None))\n",
        "        self.model.add(Dense(64))\n",
        "        self.model.add(Activation(\"relu\"))\n",
        "        self.model.add(Dense(32))\n",
        "        self.model.add(Activation(\"relu\"))\n",
        "        self.model.add(Dense(10))\n",
        "        self.model.add(Activation(\"softmax\"))\n",
        "\n",
        "        self.model.compile(\n",
        "              loss='sparse_categorical_crossentropy',\n",
        "              optimizer=self.config.model.optimizer,\n",
        "              metrics=['accuracy', 'top_k_categorical_accuracy'])\n",
        "              #metrics=['accuracy'])\n",
        "\n",
        "config.exp.name=\"efficientNetB0_cifar_from_config\"\n",
        "config.callbacks.tensorboard_log_dir = os.path.join(\"experiments\", time.strftime(\"%Y-%m-%d/\",time.localtime()), config.exp.name, \"logs/\")\n",
        "config.callbacks.checkpoint_dir = os.path.join(\"experiments\", time.strftime(\"%Y-%m-%d/\",time.localtime()), config.exp.name, \"checkpoints/\")\n",
        "config.callbacks.testPredictions_dir=os.path.join(\"experiments\", time.strftime(\"%Y-%m-%d/\",time.localtime()), config.exp.name, \"testPredictions/\")\n",
        "create_dirs([config.callbacks.testPredictions_dir, config.callbacks.tensorboard_log_dir, config.callbacks.checkpoint_dir])\n",
        "\n",
        "print('Create the data generator.')\n",
        "data_loader = ConvCifarDataLoader()\n",
        "print('Create the model.')\n",
        "model = EfficientNetB0CifarModel(config)\n",
        "print('Create the trainer')\n",
        "trainer = SimpleCifarModelTrainer(model.model, data_loader.get_train_data(), config)\n",
        "print('Start training the model.')\n",
        "t0 = time.time()\n",
        "trainer.train()\n",
        "training_time=time.time()-t0\n",
        "\n",
        "print(\"*******************************************************************************\")\n",
        "print(model.model.summary())\n",
        "\n",
        "\n",
        "print(\"*******************************************************************************\")\n",
        "print(\"Training_time: \", training_time)\n",
        "\n",
        "\n",
        "print(\"*******************************************************************************\")\n",
        "flops = get_flops(model.model, batch_size=1)\n",
        "print(f\"FLOPS: {flops / 10 ** 9:.03} G\")\n",
        "\n",
        "\n",
        "print(\"*******************************************************************************\")\n",
        "print(\"Create the tester\")\n",
        "tester = simpleCifarTester(model.model, data_loader.get_test_data(), config, training_time, flops)     \n",
        "print(\"Start testing the model.\")\n",
        "tester.test()"
      ],
      "metadata": {
        "id": "2dKGXphOv96Y"
      },
      "execution_count": null,
      "outputs": []
    },
    {
      "cell_type": "code",
      "source": [
        "from keras.utils.vis_utils import plot_model\n",
        "plot_model(model.model, to_file=config.exp.name+'.png', show_shapes=True, show_layer_names=True)"
      ],
      "metadata": {
        "id": "ELjWnyJ0v96Z"
      },
      "execution_count": null,
      "outputs": []
    },
    {
      "cell_type": "code",
      "source": [
        "print(\"*******************************************************************************\")\n",
        "# Plot the loss and accuracy curves for training and validation \n",
        "fig, ax = plt.subplots(2,1)\n",
        "ax[0].plot(trainer.loss, color='b', label=\"Training loss\")\n",
        "ax[0].plot(trainer.val_loss, color='r', label=\"validation loss\",axes =ax[0])\n",
        "legend = ax[0].legend(loc='best', shadow=True)\n",
        "ax[1].plot(trainer.acc, color='b', label=\"Training accuracy\")\n",
        "ax[1].plot(trainer.val_acc, color='r',label=\"Validation accuracy\")\n",
        "legend = ax[1].legend(loc='best', shadow=True)\n",
        "plt.savefig(config.exp.name+\".png\")"
      ],
      "metadata": {
        "id": "vsxH-crBv96Z"
      },
      "execution_count": null,
      "outputs": []
    },
    {
      "cell_type": "code",
      "source": [
        "print(\"*******************************************************************************\")\n",
        "print(tester.result)\n",
        "\n",
        "print(\"*******************************************************************************\")\n",
        "plot_confusion_matrix(tester.result, classes=range(10), name=config.exp.name)"
      ],
      "metadata": {
        "id": "Va7d8uxjv96Z"
      },
      "execution_count": null,
      "outputs": []
    },
    {
      "cell_type": "markdown",
      "source": [
        "EfficientNetB1"
      ],
      "metadata": {
        "id": "m7lOV74NwOen"
      }
    },
    {
      "cell_type": "code",
      "source": [
        "from tensorflow.keras.applications import EfficientNetB1\n",
        "class EfficientNetB1CifarModel():\n",
        "    def __init__(self, config):\n",
        "        self.config=config\n",
        "        self.build_model()\n",
        "\n",
        "    def build_model(self):\n",
        "        self.model = Sequential()\n",
        "        self.model.add(EfficientNetB1(include_top=False, weights=None, input_tensor=None, input_shape=(150, 150, 3), pooling=None))\n",
        "        self.model.add(GlobalAveragePooling2D())\n",
        "        self.model.add(Dense(128))\n",
        "        self.model.add(Activation(\"relu\"))\n",
        "        self.model.add(BatchNormalization(axis=-1, momentum=0.99, epsilon=0.001, center=True, scale=True, beta_initializer='zeros', gamma_initializer='ones', moving_mean_initializer='zeros', moving_variance_initializer='ones', beta_regularizer=None, gamma_regularizer=None, beta_constraint=None, gamma_constraint=None))\n",
        "        self.model.add(Dense(64))\n",
        "        self.model.add(Activation(\"relu\"))\n",
        "        self.model.add(Dense(32))\n",
        "        self.model.add(Activation(\"relu\"))\n",
        "        self.model.add(Dense(10))\n",
        "        self.model.add(Activation(\"softmax\"))\n",
        "\n",
        "        self.model.compile(\n",
        "              loss='sparse_categorical_crossentropy',\n",
        "              optimizer=self.config.model.optimizer,\n",
        "              metrics=['accuracy', 'top_k_categorical_accuracy'])\n",
        "              #metrics=['accuracy'])\n",
        "\n",
        "config.exp.name=\"efficientNetB1_cifar_from_config\"\n",
        "config.callbacks.tensorboard_log_dir = os.path.join(\"experiments\", time.strftime(\"%Y-%m-%d/\",time.localtime()), config.exp.name, \"logs/\")\n",
        "config.callbacks.checkpoint_dir = os.path.join(\"experiments\", time.strftime(\"%Y-%m-%d/\",time.localtime()), config.exp.name, \"checkpoints/\")\n",
        "config.callbacks.testPredictions_dir=os.path.join(\"experiments\", time.strftime(\"%Y-%m-%d/\",time.localtime()), config.exp.name, \"testPredictions/\")\n",
        "create_dirs([config.callbacks.testPredictions_dir, config.callbacks.tensorboard_log_dir, config.callbacks.checkpoint_dir])\n",
        "\n",
        "print('Create the data generator.')\n",
        "data_loader = ConvCifarDataLoader()\n",
        "print('Create the model.')\n",
        "model = EfficientNetB1CifarModel(config)\n",
        "print('Create the trainer')\n",
        "trainer = SimpleCifarModelTrainer(model.model, data_loader.get_train_data(), config)\n",
        "print('Start training the model.')\n",
        "t0 = time.time()\n",
        "trainer.train()\n",
        "training_time=time.time()-t0\n",
        "\n",
        "print(\"*******************************************************************************\")\n",
        "print(model.model.summary())\n",
        "\n",
        "\n",
        "print(\"*******************************************************************************\")\n",
        "print(\"Training_time: \", training_time)\n",
        "\n",
        "\n",
        "print(\"*******************************************************************************\")\n",
        "flops = get_flops(model.model, batch_size=1)\n",
        "print(f\"FLOPS: {flops / 10 ** 9:.03} G\")\n",
        "\n",
        "\n",
        "print(\"*******************************************************************************\")\n",
        "print(\"Create the tester\")\n",
        "tester = simpleCifarTester(model.model, data_loader.get_test_data(), config, training_time, flops)     \n",
        "print(\"Start testing the model.\")\n",
        "tester.test()"
      ],
      "metadata": {
        "id": "XConZ_O9wQ2d"
      },
      "execution_count": null,
      "outputs": []
    },
    {
      "cell_type": "code",
      "source": [
        "from keras.utils.vis_utils import plot_model\n",
        "plot_model(model.model, to_file=config.exp.name+'.png', show_shapes=True, show_layer_names=True)"
      ],
      "metadata": {
        "id": "LUOtxtvRwQ2e"
      },
      "execution_count": null,
      "outputs": []
    },
    {
      "cell_type": "code",
      "source": [
        "print(\"*******************************************************************************\")\n",
        "# Plot the loss and accuracy curves for training and validation \n",
        "fig, ax = plt.subplots(2,1)\n",
        "ax[0].plot(trainer.loss, color='b', label=\"Training loss\")\n",
        "ax[0].plot(trainer.val_loss, color='r', label=\"validation loss\",axes =ax[0])\n",
        "legend = ax[0].legend(loc='best', shadow=True)\n",
        "ax[1].plot(trainer.acc, color='b', label=\"Training accuracy\")\n",
        "ax[1].plot(trainer.val_acc, color='r',label=\"Validation accuracy\")\n",
        "legend = ax[1].legend(loc='best', shadow=True)\n",
        "plt.savefig(config.exp.name+\".png\")"
      ],
      "metadata": {
        "id": "8y9Pgu8wwQ2e"
      },
      "execution_count": null,
      "outputs": []
    },
    {
      "cell_type": "code",
      "source": [
        "print(\"*******************************************************************************\")\n",
        "print(tester.result)\n",
        "\n",
        "print(\"*******************************************************************************\")\n",
        "plot_confusion_matrix(tester.result, classes=range(10), name=config.exp.name)"
      ],
      "metadata": {
        "id": "iZ2KKl7VwQ2f"
      },
      "execution_count": null,
      "outputs": []
    },
    {
      "cell_type": "markdown",
      "source": [
        "EfficientNet B2"
      ],
      "metadata": {
        "id": "ipbOST_fwXM4"
      }
    },
    {
      "cell_type": "code",
      "source": [
        "from tensorflow.keras.applications import EfficientNetB2\n",
        "class EfficientNetB2CifarModel():\n",
        "    def __init__(self, config):\n",
        "        self.config=config\n",
        "        self.build_model()\n",
        "\n",
        "    def build_model(self):\n",
        "        self.model = Sequential()\n",
        "        self.model.add(EfficientNetB2(include_top=False, weights=None, input_tensor=None, input_shape=(150, 150, 3), pooling=None))\n",
        "        self.model.add(GlobalAveragePooling2D())\n",
        "        self.model.add(Dense(128))\n",
        "        self.model.add(Activation(\"relu\"))\n",
        "        self.model.add(BatchNormalization(axis=-1, momentum=0.99, epsilon=0.001, center=True, scale=True, beta_initializer='zeros', gamma_initializer='ones', moving_mean_initializer='zeros', moving_variance_initializer='ones', beta_regularizer=None, gamma_regularizer=None, beta_constraint=None, gamma_constraint=None))\n",
        "        self.model.add(Dense(64))\n",
        "        self.model.add(Activation(\"relu\"))\n",
        "        self.model.add(Dense(32))\n",
        "        self.model.add(Activation(\"relu\"))\n",
        "        self.model.add(Dense(10))\n",
        "        self.model.add(Activation(\"softmax\"))\n",
        "\n",
        "        self.model.compile(\n",
        "              loss='sparse_categorical_crossentropy',\n",
        "              optimizer=self.config.model.optimizer,\n",
        "              metrics=['accuracy', 'top_k_categorical_accuracy'])\n",
        "              #metrics=['accuracy'])\n",
        "\n",
        "config.exp.name=\"efficientNetB2_cifar_from_config\"\n",
        "config.callbacks.tensorboard_log_dir = os.path.join(\"experiments\", time.strftime(\"%Y-%m-%d/\",time.localtime()), config.exp.name, \"logs/\")\n",
        "config.callbacks.checkpoint_dir = os.path.join(\"experiments\", time.strftime(\"%Y-%m-%d/\",time.localtime()), config.exp.name, \"checkpoints/\")\n",
        "config.callbacks.testPredictions_dir=os.path.join(\"experiments\", time.strftime(\"%Y-%m-%d/\",time.localtime()), config.exp.name, \"testPredictions/\")\n",
        "create_dirs([config.callbacks.testPredictions_dir, config.callbacks.tensorboard_log_dir, config.callbacks.checkpoint_dir])\n",
        "\n",
        "print('Create the data generator.')\n",
        "data_loader = ConvCifarDataLoader()\n",
        "print('Create the model.')\n",
        "model = EfficientNetB2CifarModel(config)\n",
        "print('Create the trainer')\n",
        "trainer = SimpleCifarModelTrainer(model.model, data_loader.get_train_data(), config)\n",
        "print('Start training the model.')\n",
        "t0 = time.time()\n",
        "trainer.train()\n",
        "training_time=time.time()-t0\n",
        "\n",
        "print(\"*******************************************************************************\")\n",
        "print(model.model.summary())\n",
        "\n",
        "\n",
        "print(\"*******************************************************************************\")\n",
        "print(\"Training_time: \", training_time)\n",
        "\n",
        "\n",
        "print(\"*******************************************************************************\")\n",
        "flops = get_flops(model.model, batch_size=1)\n",
        "print(f\"FLOPS: {flops / 10 ** 9:.03} G\")\n",
        "\n",
        "\n",
        "print(\"*******************************************************************************\")\n",
        "print(\"Create the tester\")\n",
        "tester = simpleCifarTester(model.model, data_loader.get_test_data(), config, training_time, flops)     \n",
        "print(\"Start testing the model.\")\n",
        "tester.test()"
      ],
      "metadata": {
        "id": "UnUlyy72wZnQ"
      },
      "execution_count": null,
      "outputs": []
    },
    {
      "cell_type": "code",
      "source": [
        "from keras.utils.vis_utils import plot_model\n",
        "plot_model(model.model, to_file=config.exp.name+'.png', show_shapes=True, show_layer_names=True)"
      ],
      "metadata": {
        "id": "S6Oaad7VwZnR"
      },
      "execution_count": null,
      "outputs": []
    },
    {
      "cell_type": "code",
      "source": [
        "print(\"*******************************************************************************\")\n",
        "# Plot the loss and accuracy curves for training and validation \n",
        "fig, ax = plt.subplots(2,1)\n",
        "ax[0].plot(trainer.loss, color='b', label=\"Training loss\")\n",
        "ax[0].plot(trainer.val_loss, color='r', label=\"validation loss\",axes =ax[0])\n",
        "legend = ax[0].legend(loc='best', shadow=True)\n",
        "ax[1].plot(trainer.acc, color='b', label=\"Training accuracy\")\n",
        "ax[1].plot(trainer.val_acc, color='r',label=\"Validation accuracy\")\n",
        "legend = ax[1].legend(loc='best', shadow=True)\n",
        "plt.savefig(config.exp.name+\".png\")"
      ],
      "metadata": {
        "id": "fhnt8KGLwZnR"
      },
      "execution_count": null,
      "outputs": []
    },
    {
      "cell_type": "code",
      "source": [
        "print(\"*******************************************************************************\")\n",
        "print(tester.result)\n",
        "\n",
        "print(\"*******************************************************************************\")\n",
        "plot_confusion_matrix(tester.result, classes=range(10), name=config.exp.name)"
      ],
      "metadata": {
        "id": "LDGkVNCowZnS"
      },
      "execution_count": null,
      "outputs": []
    },
    {
      "cell_type": "markdown",
      "source": [
        "ShuffleNet"
      ],
      "metadata": {
        "id": "iptLV8N1WLI-"
      }
    },
    {
      "cell_type": "code",
      "source": [
        "import tensorflow as tf\n",
        "from tensorflow.keras.models import Model\n",
        "from tensorflow.keras.layers import Input, Add,AveragePooling2D,Dense, AvgPool2D,BatchNormalization, ReLU, DepthwiseConv2D, Reshape, Permute,Conv2D, MaxPool2D, GlobalAveragePooling2D, concatenate\n",
        "def channel_shuffle(x, groups):  \n",
        "    _, width, height, channels = x.get_shape().as_list()\n",
        "    group_ch = channels // groups\n",
        "\n",
        "    x = Reshape([width, height, group_ch, groups])(x)\n",
        "    x = Permute([1, 2, 4, 3])(x)\n",
        "    x = Reshape([width, height, channels])(x)\n",
        "    return x\n",
        "def shuffle_unit(x, groups, channels,strides):\n",
        "\n",
        "    y = x\n",
        "    x = Conv2D(channels//4, kernel_size = 1, strides = (1,1),padding = 'same', groups=groups)(x)\n",
        "    x = BatchNormalization()(x)\n",
        "    x = ReLU()(x)\n",
        "\n",
        "    x = channel_shuffle(x, groups)\n",
        "    \n",
        "    x = DepthwiseConv2D(kernel_size = (3,3), strides = strides, padding = 'same')(x)\n",
        "    x = BatchNormalization()(x)\n",
        "\n",
        "    if strides == (2,2):\n",
        "        channels = channels - y.shape[-1]\n",
        "    x = Conv2D(channels, kernel_size = 1, strides = (1,1),padding = 'same', groups=groups)(x)\n",
        "    x = BatchNormalization()(x)\n",
        "\n",
        "    if strides ==(1,1):\n",
        "        x =Add()([x,y])\n",
        "    if strides == (2,2):\n",
        "        y = AvgPool2D((3,3), strides = (2,2), padding = 'same')(y)\n",
        "        x = concatenate([x,y])\n",
        "    \n",
        "    x = ReLU()(x)\n",
        "\n",
        "\n",
        "    return x\n",
        " \n",
        "def Shuffle_Net(n_classes, start_channels ,input_shape = (224,224,3)):\n",
        "\n",
        "    groups = 2\n",
        "    input = Input (input_shape)\n",
        "\n",
        "    x =  Conv2D (24,kernel_size=3,strides = (2,2), padding = 'same', use_bias = True)(input)\n",
        "    x =  BatchNormalization()(x)\n",
        "    x =  ReLU()(x)\n",
        "    \n",
        "    x = MaxPool2D (pool_size=(3,3), strides = 2, padding='same')(x)\n",
        "\n",
        "    repetitions = [3,7,3]\n",
        "\n",
        "    for i,repetition in enumerate(repetitions):\n",
        "        channels = start_channels * (2**i)\n",
        "\n",
        "        x  = shuffle_unit(x, groups, channels,strides = (2,2))\n",
        "\n",
        "        for i in range(repetition):\n",
        "            x = shuffle_unit(x, groups, channels,strides=(1,1))\n",
        "\n",
        "    x = GlobalAveragePooling2D()(x)\n",
        "\n",
        "    output = Dense(n_classes,activation='softmax')(x)\n",
        "\n",
        "    model = Model(input, output)\n",
        "    return model"
      ],
      "metadata": {
        "id": "CvuCEBRJWKkf"
      },
      "execution_count": null,
      "outputs": []
    },
    {
      "cell_type": "code",
      "source": [
        "class ShuffleNetCifarModel():\n",
        "    def __init__(self, config):\n",
        "        self.config=config\n",
        "        self.build_model()\n",
        "\n",
        "    def build_model(self):\n",
        "        self.model = Sequential()\n",
        "        self.model.add(Shuffle_Net(n_classes=1000, start_channels=200, input_shape=(150, 150, 3)))\n",
        "        #self.model.add(GlobalAveragePooling2D())\n",
        "        self.model.add(Dense(128))\n",
        "        self.model.add(Activation(\"relu\"))\n",
        "        self.model.add(BatchNormalization(axis=-1, momentum=0.99, epsilon=0.001, center=True, scale=True, beta_initializer='zeros', gamma_initializer='ones', moving_mean_initializer='zeros', moving_variance_initializer='ones', beta_regularizer=None, gamma_regularizer=None, beta_constraint=None, gamma_constraint=None))\n",
        "        self.model.add(Dense(64))\n",
        "        self.model.add(Activation(\"relu\"))\n",
        "        self.model.add(Dense(32))\n",
        "        self.model.add(Activation(\"relu\"))\n",
        "        self.model.add(Dense(10))\n",
        "        self.model.add(Activation(\"softmax\"))\n",
        "\n",
        "        self.model.compile(\n",
        "              loss='sparse_categorical_crossentropy',\n",
        "              optimizer=self.config.model.optimizer,\n",
        "              metrics=['accuracy', 'top_k_categorical_accuracy'])\n",
        "              #metrics=['accuracy'])\n",
        "\n",
        "config.exp.name=\"shuffleNet_cifar_from_config\"\n",
        "config.callbacks.tensorboard_log_dir = os.path.join(\"experiments\", time.strftime(\"%Y-%m-%d/\",time.localtime()), config.exp.name, \"logs/\")\n",
        "config.callbacks.checkpoint_dir = os.path.join(\"experiments\", time.strftime(\"%Y-%m-%d/\",time.localtime()), config.exp.name, \"checkpoints/\")\n",
        "config.callbacks.testPredictions_dir=os.path.join(\"experiments\", time.strftime(\"%Y-%m-%d/\",time.localtime()), config.exp.name, \"testPredictions/\")\n",
        "create_dirs([config.callbacks.testPredictions_dir, config.callbacks.tensorboard_log_dir, config.callbacks.checkpoint_dir])\n",
        "\n",
        "print('Create the data generator.')\n",
        "data_loader = ConvCifarDataLoader()\n",
        "print('Create the model.')\n",
        "model = ShuffleNetCifarModel(config)\n",
        "print('Create the trainer')\n",
        "trainer = SimpleCifarModelTrainer(model.model, data_loader.get_train_data(), config)\n",
        "print('Start training the model.')\n",
        "t0 = time.time()\n",
        "trainer.train()\n",
        "training_time=time.time()-t0\n",
        "\n",
        "print(\"*******************************************************************************\")\n",
        "print(model.model.summary())\n",
        "\n",
        "\n",
        "print(\"*******************************************************************************\")\n",
        "print(\"Training_time: \", training_time)\n",
        "\n",
        "\n",
        "print(\"*******************************************************************************\")\n",
        "flops = get_flops(model.model, batch_size=1)\n",
        "print(f\"FLOPS: {flops / 10 ** 9:.03} G\")\n",
        "\n",
        "\n",
        "print(\"*******************************************************************************\")\n",
        "print(\"Create the tester\")\n",
        "tester = simpleCifarTester(model.model, data_loader.get_test_data(), config, training_time, flops)     \n",
        "print(\"Start testing the model.\")\n",
        "tester.test()"
      ],
      "metadata": {
        "id": "VNCf7cuMWop4"
      },
      "execution_count": null,
      "outputs": []
    },
    {
      "cell_type": "code",
      "source": [
        "from keras.utils.vis_utils import plot_model\n",
        "plot_model(model.model, to_file=config.exp.name+'.png', show_shapes=True, show_layer_names=True)"
      ],
      "metadata": {
        "id": "NAiPY_YgWop5"
      },
      "execution_count": null,
      "outputs": []
    },
    {
      "cell_type": "code",
      "source": [
        "print(\"*******************************************************************************\")\n",
        "# Plot the loss and accuracy curves for training and validation \n",
        "fig, ax = plt.subplots(2,1)\n",
        "ax[0].plot(trainer.loss, color='b', label=\"Training loss\")\n",
        "ax[0].plot(trainer.val_loss, color='r', label=\"validation loss\",axes =ax[0])\n",
        "legend = ax[0].legend(loc='best', shadow=True)\n",
        "ax[1].plot(trainer.acc, color='b', label=\"Training accuracy\")\n",
        "ax[1].plot(trainer.val_acc, color='r',label=\"Validation accuracy\")\n",
        "legend = ax[1].legend(loc='best', shadow=True)\n",
        "plt.savefig(config.exp.name+\".png\")"
      ],
      "metadata": {
        "id": "CGjFZ3pXWop5"
      },
      "execution_count": null,
      "outputs": []
    },
    {
      "cell_type": "code",
      "source": [
        "print(\"*******************************************************************************\")\n",
        "print(tester.result)\n",
        "\n",
        "print(\"*******************************************************************************\")\n",
        "plot_confusion_matrix(tester.result, classes=range(10), name=config.exp.name)"
      ],
      "metadata": {
        "id": "-9BnF-xoWop6"
      },
      "execution_count": null,
      "outputs": []
    },
    {
      "cell_type": "markdown",
      "source": [
        "SqueezeNet"
      ],
      "metadata": {
        "id": "MeBxGAlXWMqB"
      }
    },
    {
      "cell_type": "code",
      "source": [
        "def SqueezeNet():  \n",
        "  IMAGE_SIZE = [150, 150]\n",
        "  bnmomemtum=0.9\n",
        "  def fire(x, squeeze, expand):\n",
        "    y  = tf.keras.layers.Conv2D(filters=squeeze, kernel_size=1, activation='relu', padding='same')(x)\n",
        "    y = tf.keras.layers.BatchNormalization(momentum=bnmomemtum)(y)\n",
        "    y1 = tf.keras.layers.Conv2D(filters=expand//2, kernel_size=1, activation='relu', padding='same')(y)\n",
        "    y1 = tf.keras.layers.BatchNormalization(momentum=bnmomemtum)(y1)\n",
        "    y3 = tf.keras.layers.Conv2D(filters=expand//2, kernel_size=3, activation='relu', padding='same')(y)\n",
        "    y3 = tf.keras.layers.BatchNormalization(momentum=bnmomemtum)(y3)\n",
        "    return tf.keras.layers.concatenate([y1, y3])\n",
        "\n",
        "  def fire_module(squeeze, expand):\n",
        "    return lambda x: fire(x, squeeze, expand)\n",
        "\n",
        "  x = tf.keras.layers.Input(shape=[*IMAGE_SIZE, 3]) # input is 192x192 pixels RGB\n",
        "\n",
        "  y = tf.keras.layers.Conv2D(kernel_size=3, filters=32, padding='same', use_bias=True, activation='relu')(x)\n",
        "  y = tf.keras.layers.BatchNormalization(momentum=bnmomemtum)(y)\n",
        "  y = fire_module(24, 48)(y)\n",
        "  y = tf.keras.layers.MaxPooling2D(pool_size=2)(y)\n",
        "  y = fire_module(48, 96)(y)\n",
        "  y = tf.keras.layers.MaxPooling2D(pool_size=2)(y)\n",
        "  y = fire_module(64, 128)(y)\n",
        "  y = tf.keras.layers.MaxPooling2D(pool_size=2)(y)\n",
        "  y = fire_module(48, 96)(y)\n",
        "  y = tf.keras.layers.MaxPooling2D(pool_size=2)(y)\n",
        "  y = fire_module(24, 48)(y)\n",
        "  y = tf.keras.layers.GlobalAveragePooling2D()(y)\n",
        "  y = tf.keras.layers.Dense(1000, activation='softmax')(y)\n",
        "\n",
        "  model = tf.keras.Model(x, y)\n",
        "\n",
        "  return(model)"
      ],
      "metadata": {
        "id": "Ib1M7yX1W4gS"
      },
      "execution_count": null,
      "outputs": []
    },
    {
      "cell_type": "code",
      "source": [
        "class SqueezeNetCifarModel():\n",
        "    def __init__(self, config):\n",
        "        self.config=config\n",
        "        self.build_model()\n",
        "\n",
        "    def build_model(self):\n",
        "        self.model = Sequential()\n",
        "        self.model.add(SqueezeNet())\n",
        "        self.model.add(Dense(128))\n",
        "        self.model.add(Activation(\"relu\"))\n",
        "        self.model.add(BatchNormalization(axis=-1, momentum=0.99, epsilon=0.001, center=True, scale=True, beta_initializer='zeros', gamma_initializer='ones', moving_mean_initializer='zeros', moving_variance_initializer='ones', beta_regularizer=None, gamma_regularizer=None, beta_constraint=None, gamma_constraint=None))\n",
        "        self.model.add(Dense(64))\n",
        "        self.model.add(Activation(\"relu\"))\n",
        "        self.model.add(Dense(32))\n",
        "        self.model.add(Activation(\"relu\"))\n",
        "        self.model.add(Dense(10))\n",
        "        self.model.add(Activation(\"softmax\"))\n",
        "\n",
        "        self.model.compile(\n",
        "              loss='sparse_categorical_crossentropy',\n",
        "              optimizer=self.config.model.optimizer,\n",
        "              metrics=['accuracy', 'top_k_categorical_accuracy'])\n",
        "              #metrics=['accuracy'])\n",
        "\n",
        "config.exp.name=\"squeezeNet_cifar_from_config\"\n",
        "config.callbacks.tensorboard_log_dir = os.path.join(\"experiments\", time.strftime(\"%Y-%m-%d/\",time.localtime()), config.exp.name, \"logs/\")\n",
        "config.callbacks.checkpoint_dir = os.path.join(\"experiments\", time.strftime(\"%Y-%m-%d/\",time.localtime()), config.exp.name, \"checkpoints/\")\n",
        "config.callbacks.testPredictions_dir=os.path.join(\"experiments\", time.strftime(\"%Y-%m-%d/\",time.localtime()), config.exp.name, \"testPredictions/\")\n",
        "create_dirs([config.callbacks.testPredictions_dir, config.callbacks.tensorboard_log_dir, config.callbacks.checkpoint_dir])\n",
        "\n",
        "print('Create the data generator.')\n",
        "data_loader = ConvCifarDataLoader()\n",
        "print('Create the model.')\n",
        "model = SqueezeNetCifarModel(config)\n",
        "print('Create the trainer')\n",
        "trainer = SimpleCifarModelTrainer(model.model, data_loader.get_train_data(), config)\n",
        "print('Start training the model.')\n",
        "t0 = time.time()\n",
        "trainer.train()\n",
        "training_time=time.time()-t0\n",
        "\n",
        "print(\"*******************************************************************************\")\n",
        "print(model.model.summary())\n",
        "\n",
        "\n",
        "print(\"*******************************************************************************\")\n",
        "print(\"Training_time: \", training_time)\n",
        "\n",
        "\n",
        "print(\"*******************************************************************************\")\n",
        "flops = get_flops(model.model, batch_size=1)\n",
        "print(f\"FLOPS: {flops / 10 ** 9:.03} G\")\n",
        "\n",
        "\n",
        "print(\"*******************************************************************************\")\n",
        "print(\"Create the tester\")\n",
        "tester = simpleCifarTester(model.model, data_loader.get_test_data(), config, training_time, flops)     \n",
        "print(\"Start testing the model.\")\n",
        "tester.test()"
      ],
      "metadata": {
        "id": "kpnJMs0qYLV6"
      },
      "execution_count": null,
      "outputs": []
    },
    {
      "cell_type": "code",
      "source": [
        "from keras.utils.vis_utils import plot_model\n",
        "plot_model(model.model, to_file=config.exp.name+'.png', show_shapes=True, show_layer_names=True)"
      ],
      "metadata": {
        "id": "tnye_apOYLV7"
      },
      "execution_count": null,
      "outputs": []
    },
    {
      "cell_type": "code",
      "source": [
        "print(\"*******************************************************************************\")\n",
        "# Plot the loss and accuracy curves for training and validation \n",
        "fig, ax = plt.subplots(2,1)\n",
        "ax[0].plot(trainer.loss, color='b', label=\"Training loss\")\n",
        "ax[0].plot(trainer.val_loss, color='r', label=\"validation loss\",axes =ax[0])\n",
        "legend = ax[0].legend(loc='best', shadow=True)\n",
        "ax[1].plot(trainer.acc, color='b', label=\"Training accuracy\")\n",
        "ax[1].plot(trainer.val_acc, color='r',label=\"Validation accuracy\")\n",
        "legend = ax[1].legend(loc='best', shadow=True)\n",
        "plt.savefig(config.exp.name+\".png\")"
      ],
      "metadata": {
        "id": "6HmLVuLgYLV8"
      },
      "execution_count": null,
      "outputs": []
    },
    {
      "cell_type": "code",
      "source": [
        "print(\"*******************************************************************************\")\n",
        "print(tester.result)\n",
        "\n",
        "print(\"*******************************************************************************\")\n",
        "plot_confusion_matrix(tester.result, classes=range(10), name=config.exp.name)"
      ],
      "metadata": {
        "id": "DYaV7KarYLV8"
      },
      "execution_count": null,
      "outputs": []
    }
  ]
}